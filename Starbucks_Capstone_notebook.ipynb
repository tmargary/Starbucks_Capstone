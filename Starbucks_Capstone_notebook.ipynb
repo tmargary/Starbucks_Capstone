{
 "cells": [
  {
   "cell_type": "markdown",
   "metadata": {},
   "source": [
    "# Starbucks Capstone Challenge\n",
    "### Introduction\n",
    "\n",
    "This data set contains simulated data that mimics customer behavior on the Starbucks rewards mobile app. Once every few days, Starbucks sends out an offer to users of the mobile app. An offer can be merely an advertisement for a drink or an actual offer such as a discount or BOGO (buy one get one free). Some users might not receive any offer during certain weeks. \n",
    "\n",
    "Not all users receive the same offer, and that is the challenge to solve with this data set.\n",
    "\n",
    "Your task is to combine transaction, demographic and offer data to determine which demographic groups respond best to which offer type. This data set is a simplified version of the real Starbucks app because the underlying simulator only has one product whereas Starbucks actually sells dozens of products.\n",
    "\n",
    "Every offer has a validity period before the offer expires. As an example, a BOGO offer might be valid for only 5 days. You'll see in the data set that informational offers have a validity period even though these ads are merely providing information about a product; for example, if an informational offer has 7 days of validity, you can assume the customer is feeling the influence of the offer for 7 days after receiving the advertisement.\n",
    "\n",
    "You'll be given transactional data showing user purchases made on the app including the timestamp of purchase and the amount of money spent on a purchase. This transactional data also has a record for each offer that a user receives as well as a record for when a user actually views the offer. There are also records for when a user completes an offer. \n",
    "\n",
    "Keep in mind as well that someone using the app might make a purchase through the app without having received an offer or seen an offer.\n",
    "\n",
    "### Example\n",
    "\n",
    "To give an example, a user could receive a discount offer buy 10 dollars get 2 off on Monday. The offer is valid for 10 days from receipt. If the customer accumulates at least 10 dollars in purchases during the validity period, the customer completes the offer.\n",
    "\n",
    "However, there are a few things to watch out for in this data set. Customers do not opt into the offers that they receive; in other words, a user can receive an offer, never actually view the offer, and still complete the offer. For example, a user might receive the \"buy 10 dollars get 2 dollars off offer\", but the user never opens the offer during the 10 day validity period. The customer spends 15 dollars during those ten days. There will be an offer completion record in the data set; however, the customer was not influenced by the offer because the customer never viewed the offer.\n",
    "\n",
    "### Cleaning\n",
    "\n",
    "This makes data cleaning especially important and tricky.\n",
    "\n",
    "You'll also want to take into account that some demographic groups will make purchases even if they don't receive an offer. From a business perspective, if a customer is going to make a 10 dollar purchase without an offer anyway, you wouldn't want to send a buy 10 dollars get 2 dollars off offer. You'll want to try to assess what a certain demographic group will buy when not receiving any offers.\n",
    "\n",
    "### Final Advice\n",
    "\n",
    "Because this is a capstone project, you are free to analyze the data any way you see fit. For example, you could build a machine lea\n",
    "rning model that predicts how much someone will spend based on demographics and offer type. Or you could build a model that predicts whether or not someone will respond to an offer. Or, you don't need to build a machine learning model at all. You could develop a set of heuristics that determine what offer you should send to each customer (i.e., 75 percent of women customers who were 35 years old responded to offer A vs 40 percent from the same demographic to offer B, so send offer A)."
   ]
  },
  {
   "cell_type": "markdown",
   "metadata": {},
   "source": [
    "# Data Sets\n",
    "\n",
    "The data is contained in three files:\n",
    "\n",
    "* portfolio.json - containing offer ids and meta data about each offer (duration, type, etc.)\n",
    "* profile.json - demographic data for each customer\n",
    "* transcript.json - records for transactions, offers received, offers viewed, and offers completed\n",
    "\n",
    "Here is the schema and explanation of each variable in the files:\n",
    "\n",
    "**portfolio.json**\n",
    "* id (string) - offer id\n",
    "* offer_type (string) - type of offer ie BOGO, discount, informational\n",
    "* difficulty (int) - minimum required spend to complete an offer\n",
    "* reward (int) - reward given for completing an offer\n",
    "* duration (int) - time for offer to be open, in days\n",
    "* channels (list of strings)\n",
    "\n",
    "**profile.json**\n",
    "* age (int) - age of the customer \n",
    "* became_member_on (int) - date when customer created an app account\n",
    "* gender (str) - gender of the customer (note some entries contain 'O' for other rather than M or F)\n",
    "* id (str) - customer id\n",
    "* income (float) - customer's income\n",
    "\n",
    "**transcript.json**\n",
    "* event (str) - record description (ie transaction, offer received, offer viewed, etc.)\n",
    "* person (str) - customer id\n",
    "* time (int) - time in hours since start of test. The data begins at time t=0\n",
    "* value - (dict of strings) - either an offer id or transaction amount depending on the record\n",
    "\n",
    "**Note:** If you are using the workspace, you will need to go to the terminal and run the command `conda update pandas` before reading in the files. This is because the version of pandas in the workspace cannot read in the transcript.json file correctly, but the newest version of pandas can. You can access the termnal from the orange icon in the top left of this notebook.  \n",
    "\n",
    "You can see how to access the terminal and how the install works using the two images below.  First you need to access the terminal:\n",
    "\n",
    "<img src=\"pic1.png\"/>\n",
    "\n",
    "Then you will want to run the above command:\n",
    "\n",
    "<img src=\"pic2.png\"/>\n",
    "\n",
    "Finally, when you enter back into the notebook (use the jupyter icon again), you should be able to run the below cell without any errors."
   ]
  },
  {
   "cell_type": "code",
   "execution_count": 1,
   "metadata": {},
   "outputs": [],
   "source": [
    "import pandas as pd\n",
    "import numpy as np\n",
    "import math\n",
    "import json\n",
    "import matplotlib.pyplot as plt\n",
    "import seaborn as sns\n",
    "import random\n",
    "% matplotlib inline"
   ]
  },
  {
   "cell_type": "markdown",
   "metadata": {},
   "source": [
    "## `0` Project Overview\n",
    "\n",
    "The goal of the project is to build a user-based recommendation system that identifies users that are similar to each other and makes recommendations, excluding the offers that have already been received or viewed without an interaction. \n",
    "\n",
    "I have assumed that in case the user has accepted all the 10 offers, the customer is a loyal customer and does not need any offers in the short to medium term. On the other hand, if the customer has viewed all of the offers without receiving them, there is no need to continue the recommendations in the short to medium term."
   ]
  },
  {
   "cell_type": "markdown",
   "metadata": {},
   "source": [
    "## `1` Data Cleaning"
   ]
  },
  {
   "cell_type": "code",
   "execution_count": 2,
   "metadata": {},
   "outputs": [
    {
     "data": {
      "text/html": [
       "<div>\n",
       "<style scoped>\n",
       "    .dataframe tbody tr th:only-of-type {\n",
       "        vertical-align: middle;\n",
       "    }\n",
       "\n",
       "    .dataframe tbody tr th {\n",
       "        vertical-align: top;\n",
       "    }\n",
       "\n",
       "    .dataframe thead th {\n",
       "        text-align: right;\n",
       "    }\n",
       "</style>\n",
       "<table border=\"1\" class=\"dataframe\">\n",
       "  <thead>\n",
       "    <tr style=\"text-align: right;\">\n",
       "      <th></th>\n",
       "      <th>event</th>\n",
       "      <th>time</th>\n",
       "      <th>amount</th>\n",
       "      <th>age</th>\n",
       "      <th>gender</th>\n",
       "      <th>income</th>\n",
       "      <th>person_id</th>\n",
       "      <th>difficulty</th>\n",
       "      <th>duration</th>\n",
       "      <th>offer_type</th>\n",
       "      <th>reward_y</th>\n",
       "      <th>portfolio_id</th>\n",
       "      <th>web</th>\n",
       "      <th>email</th>\n",
       "      <th>mobile</th>\n",
       "      <th>social</th>\n",
       "      <th>membership_length</th>\n",
       "    </tr>\n",
       "  </thead>\n",
       "  <tbody>\n",
       "    <tr>\n",
       "      <th>0</th>\n",
       "      <td>offer received</td>\n",
       "      <td>0</td>\n",
       "      <td>NaN</td>\n",
       "      <td>75</td>\n",
       "      <td>F</td>\n",
       "      <td>100000.0</td>\n",
       "      <td>4</td>\n",
       "      <td>5.0</td>\n",
       "      <td>7.0</td>\n",
       "      <td>bogo</td>\n",
       "      <td>5.0</td>\n",
       "      <td>4.0</td>\n",
       "      <td>1</td>\n",
       "      <td>1</td>\n",
       "      <td>1</td>\n",
       "      <td>0</td>\n",
       "      <td>43.076504</td>\n",
       "    </tr>\n",
       "    <tr>\n",
       "      <th>1</th>\n",
       "      <td>offer received</td>\n",
       "      <td>0</td>\n",
       "      <td>NaN</td>\n",
       "      <td>118</td>\n",
       "      <td>None</td>\n",
       "      <td>NaN</td>\n",
       "      <td>5</td>\n",
       "      <td>20.0</td>\n",
       "      <td>10.0</td>\n",
       "      <td>discount</td>\n",
       "      <td>5.0</td>\n",
       "      <td>5.0</td>\n",
       "      <td>1</td>\n",
       "      <td>1</td>\n",
       "      <td>0</td>\n",
       "      <td>0</td>\n",
       "      <td>40.218129</td>\n",
       "    </tr>\n",
       "    <tr>\n",
       "      <th>2</th>\n",
       "      <td>offer received</td>\n",
       "      <td>0</td>\n",
       "      <td>NaN</td>\n",
       "      <td>68</td>\n",
       "      <td>M</td>\n",
       "      <td>70000.0</td>\n",
       "      <td>6</td>\n",
       "      <td>10.0</td>\n",
       "      <td>7.0</td>\n",
       "      <td>discount</td>\n",
       "      <td>2.0</td>\n",
       "      <td>10.0</td>\n",
       "      <td>1</td>\n",
       "      <td>1</td>\n",
       "      <td>1</td>\n",
       "      <td>0</td>\n",
       "      <td>31.511585</td>\n",
       "    </tr>\n",
       "    <tr>\n",
       "      <th>3</th>\n",
       "      <td>offer received</td>\n",
       "      <td>0</td>\n",
       "      <td>NaN</td>\n",
       "      <td>118</td>\n",
       "      <td>None</td>\n",
       "      <td>NaN</td>\n",
       "      <td>7</td>\n",
       "      <td>10.0</td>\n",
       "      <td>10.0</td>\n",
       "      <td>discount</td>\n",
       "      <td>2.0</td>\n",
       "      <td>7.0</td>\n",
       "      <td>1</td>\n",
       "      <td>1</td>\n",
       "      <td>1</td>\n",
       "      <td>1</td>\n",
       "      <td>38.509675</td>\n",
       "    </tr>\n",
       "    <tr>\n",
       "      <th>4</th>\n",
       "      <td>offer received</td>\n",
       "      <td>0</td>\n",
       "      <td>NaN</td>\n",
       "      <td>118</td>\n",
       "      <td>None</td>\n",
       "      <td>NaN</td>\n",
       "      <td>8</td>\n",
       "      <td>10.0</td>\n",
       "      <td>5.0</td>\n",
       "      <td>bogo</td>\n",
       "      <td>10.0</td>\n",
       "      <td>2.0</td>\n",
       "      <td>1</td>\n",
       "      <td>1</td>\n",
       "      <td>1</td>\n",
       "      <td>1</td>\n",
       "      <td>38.279691</td>\n",
       "    </tr>\n",
       "  </tbody>\n",
       "</table>\n",
       "</div>"
      ],
      "text/plain": [
       "            event  time  amount  age gender    income  person_id  difficulty  \\\n",
       "0  offer received     0     NaN   75      F  100000.0          4         5.0   \n",
       "1  offer received     0     NaN  118   None       NaN          5        20.0   \n",
       "2  offer received     0     NaN   68      M   70000.0          6        10.0   \n",
       "3  offer received     0     NaN  118   None       NaN          7        10.0   \n",
       "4  offer received     0     NaN  118   None       NaN          8        10.0   \n",
       "\n",
       "   duration offer_type  reward_y  portfolio_id  web  email  mobile  social  \\\n",
       "0       7.0       bogo       5.0           4.0    1      1       1       0   \n",
       "1      10.0   discount       5.0           5.0    1      1       0       0   \n",
       "2       7.0   discount       2.0          10.0    1      1       1       0   \n",
       "3      10.0   discount       2.0           7.0    1      1       1       1   \n",
       "4       5.0       bogo      10.0           2.0    1      1       1       1   \n",
       "\n",
       "   membership_length  \n",
       "0          43.076504  \n",
       "1          40.218129  \n",
       "2          31.511585  \n",
       "3          38.509675  \n",
       "4          38.279691  "
      ]
     },
     "execution_count": 2,
     "metadata": {},
     "output_type": "execute_result"
    }
   ],
   "source": [
    "# read in the json files\n",
    "portfolio = pd.read_json('data/portfolio.json', orient='records', lines=True)\n",
    "profile = pd.read_json('data/profile.json', orient='records', lines=True)\n",
    "transcript = pd.read_json('data/transcript.json', orient='records', lines=True)\n",
    "\n",
    "def column_mapper(data, column_name):\n",
    "    coded_dict = dict()\n",
    "    cter = 1\n",
    "    encoded = []\n",
    "    \n",
    "    for val in data[column_name]:\n",
    "        if val not in coded_dict:\n",
    "            coded_dict[val] = cter\n",
    "            cter+=1\n",
    "        \n",
    "        encoded.append(coded_dict[val])\n",
    "        \n",
    "    return encoded\n",
    "\n",
    "profile['person_id'] = column_mapper(profile, 'id')\n",
    "portfolio['portfolio_id'] = column_mapper(portfolio, 'id')\n",
    "\n",
    "# breaking down value\n",
    "values = transcript['value'].apply(pd.Series)\n",
    "transcript = pd.concat([transcript, values], axis=1)\n",
    "transcript.drop('value', axis = 1)\n",
    "\n",
    "# concat offer_id with offer id\n",
    "transcript['offer_id'] = transcript['offer_id'].replace(np.nan, '', regex=True)\n",
    "transcript['offer id'] = transcript['offer id'].replace(np.nan, '', regex=True)\n",
    "transcript['offer_id'] = transcript['offer_id'] + transcript['offer id']\n",
    "transcript.drop('offer id', axis = 1, inplace = True)\n",
    "\n",
    "# merge everything\n",
    "transcript_profile = pd.merge(transcript, profile, how='left', left_on='person', right_on='id').drop('id', axis = 1)\n",
    "df = pd.merge(transcript_profile, portfolio, how='left', left_on='offer_id', right_on='id').drop('id', axis = 1)\n",
    "df.drop(['reward_x', 'value'], axis = 1, inplace = True)\n",
    "\n",
    "# breaking down channels into 0 and 1\n",
    "channels = df['channels'].apply(pd.Series).rename(columns={0: \"web\", 1: \"email\", 2: \"mobile\", 3: \"social\"})\n",
    "df = pd.concat([df, channels], axis=1).drop('channels', axis = 1)\n",
    "for column in ['web', 'email', 'mobile', 'social']:\n",
    "    df[column] = df.apply(lambda x: 0 if pd.isna(x[column]) == pd.isna(np.nan) else 1, axis = 1)\n",
    "    \n",
    "# getting membership duration in months\n",
    "df['membership_length'] = pd.to_datetime(\"today\") - pd.to_datetime(df['became_member_on'], format='%Y%m%d')\n",
    "df['membership_length'] = df['membership_length']/np.timedelta64(1, 'M')\n",
    "df.drop(['person', 'offer_id', 'became_member_on'], axis = 1, inplace = True)\n",
    "df.head()"
   ]
  },
  {
   "cell_type": "markdown",
   "metadata": {},
   "source": [
    "## `2` Data Exploration"
   ]
  },
  {
   "cell_type": "code",
   "execution_count": 3,
   "metadata": {},
   "outputs": [
    {
     "data": {
      "text/plain": [
       "(17.898999999999997, 28.0]    1445\n",
       "(28.0, 38.0]                  1473\n",
       "(38.0, 48.0]                  2170\n",
       "(48.0, 58.0]                  3503\n",
       "(58.0, 68.0]                  3108\n",
       "(68.0, 78.0]                  1907\n",
       "(78.0, 88.0]                   895\n",
       "(88.0, 98.0]                   302\n",
       "(98.0, 108.0]                   22\n",
       "(108.0, 118.0]                2175\n",
       "Name: age, dtype: int64"
      ]
     },
     "execution_count": 3,
     "metadata": {},
     "output_type": "execute_result"
    }
   ],
   "source": [
    "# Age destribution\n",
    "profile['age'].value_counts(bins = 10).sort_index()"
   ]
  },
  {
   "cell_type": "code",
   "execution_count": 4,
   "metadata": {},
   "outputs": [
    {
     "data": {
      "text/html": [
       "<div>\n",
       "<style scoped>\n",
       "    .dataframe tbody tr th:only-of-type {\n",
       "        vertical-align: middle;\n",
       "    }\n",
       "\n",
       "    .dataframe tbody tr th {\n",
       "        vertical-align: top;\n",
       "    }\n",
       "\n",
       "    .dataframe thead th {\n",
       "        text-align: right;\n",
       "    }\n",
       "</style>\n",
       "<table border=\"1\" class=\"dataframe\">\n",
       "  <thead>\n",
       "    <tr style=\"text-align: right;\">\n",
       "      <th></th>\n",
       "      <th>age</th>\n",
       "      <th>income</th>\n",
       "    </tr>\n",
       "  </thead>\n",
       "  <tbody>\n",
       "    <tr>\n",
       "      <th>count</th>\n",
       "      <td>17000.000000</td>\n",
       "      <td>14825.000000</td>\n",
       "    </tr>\n",
       "    <tr>\n",
       "      <th>mean</th>\n",
       "      <td>62.531412</td>\n",
       "      <td>65404.991568</td>\n",
       "    </tr>\n",
       "    <tr>\n",
       "      <th>std</th>\n",
       "      <td>26.738580</td>\n",
       "      <td>21598.299410</td>\n",
       "    </tr>\n",
       "    <tr>\n",
       "      <th>min</th>\n",
       "      <td>18.000000</td>\n",
       "      <td>30000.000000</td>\n",
       "    </tr>\n",
       "    <tr>\n",
       "      <th>25%</th>\n",
       "      <td>45.000000</td>\n",
       "      <td>49000.000000</td>\n",
       "    </tr>\n",
       "    <tr>\n",
       "      <th>50%</th>\n",
       "      <td>58.000000</td>\n",
       "      <td>64000.000000</td>\n",
       "    </tr>\n",
       "    <tr>\n",
       "      <th>75%</th>\n",
       "      <td>73.000000</td>\n",
       "      <td>80000.000000</td>\n",
       "    </tr>\n",
       "    <tr>\n",
       "      <th>max</th>\n",
       "      <td>118.000000</td>\n",
       "      <td>120000.000000</td>\n",
       "    </tr>\n",
       "  </tbody>\n",
       "</table>\n",
       "</div>"
      ],
      "text/plain": [
       "                age         income\n",
       "count  17000.000000   14825.000000\n",
       "mean      62.531412   65404.991568\n",
       "std       26.738580   21598.299410\n",
       "min       18.000000   30000.000000\n",
       "25%       45.000000   49000.000000\n",
       "50%       58.000000   64000.000000\n",
       "75%       73.000000   80000.000000\n",
       "max      118.000000  120000.000000"
      ]
     },
     "execution_count": 4,
     "metadata": {},
     "output_type": "execute_result"
    }
   ],
   "source": [
    "# Age, income summary\n",
    "profile[['age', 'income']].describe()"
   ]
  },
  {
   "cell_type": "code",
   "execution_count": 5,
   "metadata": {},
   "outputs": [
    {
     "data": {
      "text/plain": [
       "age                 0.000000\n",
       "became_member_on    0.000000\n",
       "gender              0.127941\n",
       "id                  0.000000\n",
       "income              0.127941\n",
       "person_id           0.000000\n",
       "dtype: float64"
      ]
     },
     "execution_count": 5,
     "metadata": {},
     "output_type": "execute_result"
    }
   ],
   "source": [
    "# nulls\n",
    "profile.isnull().sum() / profile.shape[0]"
   ]
  },
  {
   "cell_type": "code",
   "execution_count": 6,
   "metadata": {},
   "outputs": [
    {
     "data": {
      "image/png": "[encoded data removed]",
      "text/plain": [
       "<matplotlib.figure.Figure at 0x7fc5603b7438>"
      ]
     },
     "metadata": {
      "needs_background": "light"
     },
     "output_type": "display_data"
    }
   ],
   "source": [
    "# plt.hist(profile['gender'].dropna())\n",
    "# plt.xlabel('Gender')\n",
    "# plt.show()\n",
    "\n",
    "# Gender destribution\n",
    "sns.countplot(profile['gender'].dropna())\n",
    "plt.show()"
   ]
  },
  {
   "cell_type": "code",
   "execution_count": 7,
   "metadata": {},
   "outputs": [
    {
     "data": {
      "image/png": "[encoded data removed]",
      "text/plain": [
       "<matplotlib.figure.Figure at 0x7fc56037aac8>"
      ]
     },
     "metadata": {
      "needs_background": "light"
     },
     "output_type": "display_data"
    }
   ],
   "source": [
    "# offer type destribution\n",
    "sns.countplot(df['offer_type'].dropna())\n",
    "plt.show()"
   ]
  },
  {
   "cell_type": "code",
   "execution_count": 8,
   "metadata": {},
   "outputs": [
    {
     "data": {
      "image/png": "[encoded data removed]",
      "text/plain": [
       "<matplotlib.figure.Figure at 0x7fc56033fba8>"
      ]
     },
     "metadata": {
      "needs_background": "light"
     },
     "output_type": "display_data"
    }
   ],
   "source": [
    "# plt.hist(profile['age'].dropna(), bins = 40)\n",
    "# plt.xlabel('Age')\n",
    "# plt.show()\n",
    "\n",
    "# Age distribution\n",
    "sns.distplot(profile['age'], kde = True, bins = 50)\n",
    "plt.show()"
   ]
  },
  {
   "cell_type": "code",
   "execution_count": 9,
   "metadata": {},
   "outputs": [],
   "source": [
    "# # filtering technique\n",
    "# age_lower = profile['age'] > 50\n",
    "# age_upper = profile['age'] < 70\n",
    "# profile[age_lower & age_upper].describe()"
   ]
  },
  {
   "cell_type": "code",
   "execution_count": 10,
   "metadata": {},
   "outputs": [
    {
     "data": {
      "text/plain": [
       "transaction        138953\n",
       "offer received      76277\n",
       "offer viewed        57725\n",
       "offer completed     33579\n",
       "Name: event, dtype: int64"
      ]
     },
     "execution_count": 10,
     "metadata": {},
     "output_type": "execute_result"
    }
   ],
   "source": [
    "# offer status destribution\n",
    "transcript['event'].value_counts()"
   ]
  },
  {
   "cell_type": "code",
   "execution_count": 11,
   "metadata": {},
   "outputs": [
    {
     "data": {
      "image/png": "[encoded data removed]",
      "text/plain": [
       "<matplotlib.figure.Figure at 0x7fc5602961d0>"
      ]
     },
     "metadata": {
      "needs_background": "light"
     },
     "output_type": "display_data"
    }
   ],
   "source": [
    "# fig, ax = plt.subplots()\n",
    "# ax.hist(transcript['time'], bins = 50)\n",
    "# plt.show()\n",
    "\n",
    "# plt.hist(transcript['time'], bins = 50)\n",
    "# plt.xlabel('time')\n",
    "# plt.show()\n",
    "\n",
    "sns.distplot(transcript['time'], kde = True, bins = 50)\n",
    "plt.show()"
   ]
  },
  {
   "cell_type": "code",
   "execution_count": 12,
   "metadata": {},
   "outputs": [
    {
     "data": {
      "text/plain": [
       "event                     0\n",
       "time                      0\n",
       "amount               167581\n",
       "age                       0\n",
       "gender                33772\n",
       "income                33772\n",
       "person_id                 0\n",
       "difficulty           138953\n",
       "duration             138953\n",
       "offer_type           138953\n",
       "reward_y             138953\n",
       "portfolio_id         138953\n",
       "web                       0\n",
       "email                     0\n",
       "mobile                    0\n",
       "social                    0\n",
       "membership_length         0\n",
       "dtype: int64"
      ]
     },
     "execution_count": 12,
     "metadata": {},
     "output_type": "execute_result"
    }
   ],
   "source": [
    "df.isnull().sum()"
   ]
  },
  {
   "cell_type": "markdown",
   "metadata": {},
   "source": [
    "## `3` User-User Based Collaborative Filtering"
   ]
  },
  {
   "cell_type": "markdown",
   "metadata": {},
   "source": [
    "`3.1` After cleaning the dataset and exploring some details, I will build user matrix factorization to make offer recommendations to the users."
   ]
  },
  {
   "cell_type": "code",
   "execution_count": 13,
   "metadata": {},
   "outputs": [],
   "source": [
    "# creating df_offer_received (['offer received', 'offer completed']) for creating create_user_item_matrix\n",
    "df_offer_received = df[df['event'].isin(['offer received', 'offer completed'])]\n",
    "\n",
    "# creating df_offer_viewed to not recommend the viewed and not received offers again to avoid redundancy\n",
    "df_offer_viewed = df[df['event'].isin(['offer viewed'])]"
   ]
  },
  {
   "cell_type": "code",
   "execution_count": 41,
   "metadata": {},
   "outputs": [
    {
     "name": "stdout",
     "output_type": "stream",
     "text": [
      "[[ 0.  0.  0. ...,  0.  0.  1.]\n",
      " [ 0.  0.  1. ...,  0.  0.  0.]\n",
      " [ 0.  0.  0. ...,  1.  0.  0.]\n",
      " ..., \n",
      " [ 0.  0.  1. ...,  1.  0.  0.]\n",
      " [ 1.  1.  0. ...,  0.  0.  0.]\n",
      " [ 0.  0.  1. ...,  0.  1.  0.]]\n"
     ]
    }
   ],
   "source": [
    "# creating the user-offer matrix with 1's and 0's\n",
    "\n",
    "user_item = df_offer_received.groupby(by=['person_id', 'portfolio_id']).agg(lambda x: 1).unstack().fillna(0)\n",
    "order_received_mat = np.matrix(user_item)\n",
    "print(order_received_mat)"
   ]
  },
  {
   "cell_type": "markdown",
   "metadata": {},
   "source": [
    "`3.2` Here I have used Singular Value Decomposition from numpy on the user-item matrix."
   ]
  },
  {
   "cell_type": "code",
   "execution_count": 16,
   "metadata": {},
   "outputs": [],
   "source": [
    "# SVD on the order_received_mat\n",
    "u, s, vt = np.linalg.svd(order_received_mat)"
   ]
  },
  {
   "cell_type": "code",
   "execution_count": 39,
   "metadata": {},
   "outputs": [
    {
     "data": {
      "text/plain": [
       "((16994, 16994), (150,), (150, 150))"
      ]
     },
     "execution_count": 39,
     "metadata": {},
     "output_type": "execute_result"
    }
   ],
   "source": [
    "# shapes of SVD components\n",
    "u.shape, s.shape, vt.shape"
   ]
  },
  {
   "cell_type": "markdown",
   "metadata": {},
   "source": [
    "`3.3` In order to minimize the prediction error, we have to choose the number of latent features."
   ]
  },
  {
   "cell_type": "code",
   "execution_count": 18,
   "metadata": {},
   "outputs": [
    {
     "data": {
      "image/png": "[encoded data removed]",
      "text/plain": [
       "<matplotlib.figure.Figure at 0x7fc56018da20>"
      ]
     },
     "metadata": {
      "needs_background": "light"
     },
     "output_type": "display_data"
    }
   ],
   "source": [
    "#deciding the number of latent features\n",
    "num_latent_feats = np.arange(10+1)\n",
    "sum_errs = []\n",
    "\n",
    "for k in num_latent_feats:\n",
    "    # restructure with k latent features\n",
    "    s_new, u_new, vt_new = np.diag(s[:k]), u[:, :k], vt[:k, :]\n",
    "    \n",
    "    # take dot product\n",
    "    user_item_est = np.around(np.dot(np.dot(u_new, s_new), vt_new))\n",
    "    \n",
    "    # compute error for each prediction to actual value\n",
    "    diffs = np.subtract(order_received_mat, user_item_est)\n",
    "    \n",
    "    # total errors and keep track of them\n",
    "    err = np.sum(np.sum(np.abs(diffs)))\n",
    "    sum_errs.append(err)\n",
    "    \n",
    "    \n",
    "plt.plot(num_latent_feats, 1 - np.array(sum_errs)/df.shape[0]);\n",
    "plt.xlabel('Number of Latent Features');\n",
    "plt.ylabel('Accuracy');\n",
    "plt.title('Accuracy vs. Number of Latent Features');\n",
    "\n",
    "# source: Udacity's Recommendations_with_IBM"
   ]
  },
  {
   "cell_type": "markdown",
   "metadata": {},
   "source": [
    "`3.4` As it is obvious from the graph, when k equals 10, we have the least amount of error, which as we will see in the next cell, is actually 0."
   ]
  },
  {
   "cell_type": "code",
   "execution_count": 19,
   "metadata": {},
   "outputs": [
    {
     "name": "stdout",
     "output_type": "stream",
     "text": [
      " error: 0.0\n"
     ]
    }
   ],
   "source": [
    "k = 10\n",
    "s_new, u_new, vt_new = np.diag(s[:k]), u[:, :k], vt[:k, :]\n",
    "user_item_est = np.around(np.dot(np.dot(u_new, s_new), vt_new))\n",
    "diffs = np.subtract(order_received_mat, user_item_est)\n",
    "print(f' error: {np.sum(np.sum(np.abs(diffs)))}')"
   ]
  },
  {
   "cell_type": "markdown",
   "metadata": {},
   "source": [
    "`3.5` Prediction and actual matrices"
   ]
  },
  {
   "cell_type": "code",
   "execution_count": 20,
   "metadata": {},
   "outputs": [
    {
     "data": {
      "text/plain": [
       "(matrix([[ 0.,  0., -0., ..., -0., -0.,  1.],\n",
       "         [ 0.,  0.,  1., ...,  0.,  0.,  0.],\n",
       "         [ 0.,  0., -0., ...,  1.,  0.,  0.],\n",
       "         ..., \n",
       "         [-0.,  0.,  1., ...,  1.,  0.,  0.],\n",
       "         [ 1.,  1., -0., ...,  0., -0., -0.],\n",
       "         [-0., -0.,  1., ..., -0.,  1., -0.]]),\n",
       " matrix([[ 0.,  0.,  0., ...,  0.,  0.,  1.],\n",
       "         [ 0.,  0.,  1., ...,  0.,  0.,  0.],\n",
       "         [ 0.,  0.,  0., ...,  1.,  0.,  0.],\n",
       "         ..., \n",
       "         [ 0.,  0.,  1., ...,  1.,  0.,  0.],\n",
       "         [ 1.,  1.,  0., ...,  0.,  0.,  0.],\n",
       "         [ 0.,  0.,  1., ...,  0.,  1.,  0.]]))"
      ]
     },
     "execution_count": 20,
     "metadata": {},
     "output_type": "execute_result"
    }
   ],
   "source": [
    "user_item_est, order_received_mat"
   ]
  },
  {
   "cell_type": "markdown",
   "metadata": {},
   "source": [
    "## `4` Model Evaluation and Validation \n",
    "\n",
    "According to Udacity, \"from the above, we can't really be sure how many features to use, because simply having a better way to predict the 1's and 0's of the matrix doesn't exactly give us an indication of if we are able to make good recommendations. Instead, we might split our dataset into a training and test set of data, as shown in the cell below.\""
   ]
  },
  {
   "cell_type": "code",
   "execution_count": 42,
   "metadata": {},
   "outputs": [],
   "source": [
    "# splitting train and test datasets\n",
    "df_train = df_offer_received.head(100000)\n",
    "df_test = df_offer_received.tail(9856)\n",
    "\n",
    "# a user-item matrix for train and test datasets\n",
    "user_item_train = df_train.groupby(by=['person_id', 'portfolio_id']).agg(lambda x: 1).unstack().fillna(0)\n",
    "user_item_test = df_test.groupby(by=['person_id', 'portfolio_id']).agg(lambda x: 1).unstack().fillna(0)\n",
    "\n",
    "# test user ids\n",
    "test_idx = user_item_test.index.values\n",
    "# test order ids\n",
    "test_orders = user_item_test.event.columns.values"
   ]
  },
  {
   "cell_type": "code",
   "execution_count": 24,
   "metadata": {},
   "outputs": [],
   "source": [
    "# users that have pred\n",
    "pred_user = set(np.array(user_item_train[user_item_train.index.isin(test_idx)].index))"
   ]
  },
  {
   "cell_type": "code",
   "execution_count": 25,
   "metadata": {},
   "outputs": [],
   "source": [
    "# users in test\n",
    "test_user = set(test_idx)"
   ]
  },
  {
   "cell_type": "code",
   "execution_count": 26,
   "metadata": {},
   "outputs": [
    {
     "data": {
      "text/plain": [
       "{14530, 15433}"
      ]
     },
     "execution_count": 26,
     "metadata": {},
     "output_type": "execute_result"
    }
   ],
   "source": [
    "# users in test that do not have pred\n",
    "pred_user.symmetric_difference(test_user)"
   ]
  },
  {
   "cell_type": "markdown",
   "metadata": {},
   "source": [
    "At this point we have two users that do not have recommendations yet. To make further recommendations for them, I have found similar users to them using the dot product between users. While building the functions, I have assumed that in case the user has accepted all the 10 offers, the customer is a loyal customer and does not need any offers in the short to medium term. On the other hand, if the customer has viewed all of the offers without receiving them, there is no need to continue the recommendations in the short to medium term."
   ]
  },
  {
   "cell_type": "markdown",
   "metadata": {},
   "source": [
    "## Making further recommendations"
   ]
  },
  {
   "cell_type": "code",
   "execution_count": 27,
   "metadata": {},
   "outputs": [],
   "source": [
    "def find_similar_users(user_id, user_item=user_item):\n",
    "    '''\n",
    "    INPUT:\n",
    "    user_id - (int) a user_id\n",
    "    user_item - (pandas dataframe) matrix of users by offers: \n",
    "                1's when a user has interacted with an offer, 0 otherwise\n",
    "    \n",
    "    OUTPUT:\n",
    "    similar_users - (list) an ordered list where the closest users (largest dot product users)\n",
    "                    are listed first\n",
    "    \n",
    "    Description:\n",
    "    Computes the similarity of every pair of users based on the dot product\n",
    "    Returns an ordered    \n",
    "    '''\n",
    "    # compute similarity of each user to the provided user\n",
    "    dot_p_dic = {}\n",
    "    for user in user_item.index:\n",
    "        dot_p_dic[user] = np.dot(user_item.loc[user_id], user_item.loc[user])\n",
    "        \n",
    "    # sort by similarity\n",
    "    sorted_dot_p_dic = sorted(dot_p_dic.items(), key=lambda kv: kv[1], reverse=True)\n",
    "\n",
    "    # create list of just the ids\n",
    "    sorted_ids = [key for key, value in sorted_dot_p_dic]\n",
    "    \n",
    "    # remove the own user's id\n",
    "    sorted_ids.remove(user_id)\n",
    "    most_similar_users = sorted_ids\n",
    "       \n",
    "    return most_similar_users # return a list of the users in order from most to least similar\n",
    "\n",
    "# source: Udacity's Recommendations_with_IBM"
   ]
  },
  {
   "cell_type": "code",
   "execution_count": 28,
   "metadata": {},
   "outputs": [
    {
     "name": "stdout",
     "output_type": "stream",
     "text": [
      "The 3 most similar users to user 14530 are: [1, 8, 11]\n",
      "The 3 most similar users to user 15433 are: [1, 8, 11]\n",
      "The 3 most similar users to user 1 are: [28, 145, 183]\n"
     ]
    }
   ],
   "source": [
    "print(\"The 3 most similar users to user 14530 are: {}\".format(find_similar_users(14530)[:3]))\n",
    "print(\"The 3 most similar users to user 15433 are: {}\".format(find_similar_users(15433)[:3]))\n",
    "print(\"The 3 most similar users to user 1 are: {}\".format(find_similar_users(1)[:3]))"
   ]
  },
  {
   "cell_type": "code",
   "execution_count": 29,
   "metadata": {},
   "outputs": [],
   "source": [
    "def get_user_offer_ids(user_id, df=df_offer_received):\n",
    "    '''\n",
    "    INPUT:\n",
    "    user_id - (int) a user id\n",
    "    user_item - (pandas dataframe) matrix of users by offers: \n",
    "                1's when a user has interacted with an offer, 0 otherwise\n",
    "    \n",
    "    OUTPUT:\n",
    "    portfolio_ids - (list) a list of the offer ids seen by the user\n",
    "    \n",
    "    Description:\n",
    "    Provides a list of the portfolio_ids that have been received by the user\n",
    "    '''\n",
    "    portfolio_ids = list(np.unique(df_offer_received[df['person_id'] == user_id]['portfolio_id']))\n",
    "    portfolio_ids.sort()\n",
    "    portfolio_ids\n",
    "    \n",
    "    return portfolio_ids # return the ids and names\n",
    "\n",
    "def get_not_received_ids(user_id, df=df_offer_viewed):\n",
    "    '''\n",
    "    INPUT:\n",
    "    user_id - (int) a user id\n",
    "    user_item - (pandas dataframe) matrix of users by offers: \n",
    "                1's when a user has interacted with an offer, 0 otherwise\n",
    "    \n",
    "    OUTPUT:\n",
    "    portfolio_ids - (list) a list of the offer ids seen by the user\n",
    "    \n",
    "    Description:\n",
    "    Provides a list of the portfolio_ids that have been ignored by the user\n",
    "    '''\n",
    "    portfolio_ids = list(np.unique(df_offer_viewed[df['person_id'] == user_id]['portfolio_id']))\n",
    "    portfolio_ids.sort()\n",
    "    portfolio_ids\n",
    "    \n",
    "    return portfolio_ids # return the ids and names\n",
    "\n",
    "# source: Udacity's Recommendations_with_IBM"
   ]
  },
  {
   "cell_type": "code",
   "execution_count": 31,
   "metadata": {},
   "outputs": [
    {
     "data": {
      "text/html": [
       "<div>\n",
       "<style scoped>\n",
       "    .dataframe tbody tr th:only-of-type {\n",
       "        vertical-align: middle;\n",
       "    }\n",
       "\n",
       "    .dataframe tbody tr th {\n",
       "        vertical-align: top;\n",
       "    }\n",
       "\n",
       "    .dataframe thead th {\n",
       "        text-align: right;\n",
       "    }\n",
       "</style>\n",
       "<table border=\"1\" class=\"dataframe\">\n",
       "  <thead>\n",
       "    <tr style=\"text-align: right;\">\n",
       "      <th></th>\n",
       "      <th>event</th>\n",
       "      <th>time</th>\n",
       "      <th>amount</th>\n",
       "      <th>age</th>\n",
       "      <th>gender</th>\n",
       "      <th>income</th>\n",
       "      <th>person_id</th>\n",
       "      <th>difficulty</th>\n",
       "      <th>duration</th>\n",
       "      <th>offer_type</th>\n",
       "      <th>reward_y</th>\n",
       "      <th>portfolio_id</th>\n",
       "      <th>web</th>\n",
       "      <th>email</th>\n",
       "      <th>mobile</th>\n",
       "      <th>social</th>\n",
       "      <th>membership_length</th>\n",
       "    </tr>\n",
       "  </thead>\n",
       "  <tbody>\n",
       "    <tr>\n",
       "      <th>1</th>\n",
       "      <td>offer received</td>\n",
       "      <td>0</td>\n",
       "      <td>NaN</td>\n",
       "      <td>118</td>\n",
       "      <td>None</td>\n",
       "      <td>NaN</td>\n",
       "      <td>5</td>\n",
       "      <td>20.0</td>\n",
       "      <td>10.0</td>\n",
       "      <td>discount</td>\n",
       "      <td>5.0</td>\n",
       "      <td>5.0</td>\n",
       "      <td>1</td>\n",
       "      <td>1</td>\n",
       "      <td>0</td>\n",
       "      <td>0</td>\n",
       "      <td>40.218129</td>\n",
       "    </tr>\n",
       "    <tr>\n",
       "      <th>15562</th>\n",
       "      <td>offer viewed</td>\n",
       "      <td>6</td>\n",
       "      <td>NaN</td>\n",
       "      <td>118</td>\n",
       "      <td>None</td>\n",
       "      <td>NaN</td>\n",
       "      <td>5</td>\n",
       "      <td>20.0</td>\n",
       "      <td>10.0</td>\n",
       "      <td>discount</td>\n",
       "      <td>5.0</td>\n",
       "      <td>5.0</td>\n",
       "      <td>1</td>\n",
       "      <td>1</td>\n",
       "      <td>0</td>\n",
       "      <td>0</td>\n",
       "      <td>40.218129</td>\n",
       "    </tr>\n",
       "    <tr>\n",
       "      <th>90553</th>\n",
       "      <td>transaction</td>\n",
       "      <td>234</td>\n",
       "      <td>1.09</td>\n",
       "      <td>118</td>\n",
       "      <td>None</td>\n",
       "      <td>NaN</td>\n",
       "      <td>5</td>\n",
       "      <td>NaN</td>\n",
       "      <td>NaN</td>\n",
       "      <td>NaN</td>\n",
       "      <td>NaN</td>\n",
       "      <td>NaN</td>\n",
       "      <td>0</td>\n",
       "      <td>0</td>\n",
       "      <td>0</td>\n",
       "      <td>0</td>\n",
       "      <td>40.218129</td>\n",
       "    </tr>\n",
       "    <tr>\n",
       "      <th>97700</th>\n",
       "      <td>transaction</td>\n",
       "      <td>264</td>\n",
       "      <td>3.50</td>\n",
       "      <td>118</td>\n",
       "      <td>None</td>\n",
       "      <td>NaN</td>\n",
       "      <td>5</td>\n",
       "      <td>NaN</td>\n",
       "      <td>NaN</td>\n",
       "      <td>NaN</td>\n",
       "      <td>NaN</td>\n",
       "      <td>NaN</td>\n",
       "      <td>0</td>\n",
       "      <td>0</td>\n",
       "      <td>0</td>\n",
       "      <td>0</td>\n",
       "      <td>40.218129</td>\n",
       "    </tr>\n",
       "    <tr>\n",
       "      <th>110829</th>\n",
       "      <td>offer received</td>\n",
       "      <td>336</td>\n",
       "      <td>NaN</td>\n",
       "      <td>118</td>\n",
       "      <td>None</td>\n",
       "      <td>NaN</td>\n",
       "      <td>5</td>\n",
       "      <td>0.0</td>\n",
       "      <td>4.0</td>\n",
       "      <td>informational</td>\n",
       "      <td>0.0</td>\n",
       "      <td>3.0</td>\n",
       "      <td>1</td>\n",
       "      <td>1</td>\n",
       "      <td>1</td>\n",
       "      <td>0</td>\n",
       "      <td>40.218129</td>\n",
       "    </tr>\n",
       "    <tr>\n",
       "      <th>123539</th>\n",
       "      <td>offer viewed</td>\n",
       "      <td>336</td>\n",
       "      <td>NaN</td>\n",
       "      <td>118</td>\n",
       "      <td>None</td>\n",
       "      <td>NaN</td>\n",
       "      <td>5</td>\n",
       "      <td>0.0</td>\n",
       "      <td>4.0</td>\n",
       "      <td>informational</td>\n",
       "      <td>0.0</td>\n",
       "      <td>3.0</td>\n",
       "      <td>1</td>\n",
       "      <td>1</td>\n",
       "      <td>1</td>\n",
       "      <td>0</td>\n",
       "      <td>40.218129</td>\n",
       "    </tr>\n",
       "    <tr>\n",
       "      <th>150599</th>\n",
       "      <td>offer received</td>\n",
       "      <td>408</td>\n",
       "      <td>NaN</td>\n",
       "      <td>118</td>\n",
       "      <td>None</td>\n",
       "      <td>NaN</td>\n",
       "      <td>5</td>\n",
       "      <td>0.0</td>\n",
       "      <td>3.0</td>\n",
       "      <td>informational</td>\n",
       "      <td>0.0</td>\n",
       "      <td>8.0</td>\n",
       "      <td>1</td>\n",
       "      <td>1</td>\n",
       "      <td>1</td>\n",
       "      <td>0</td>\n",
       "      <td>40.218129</td>\n",
       "    </tr>\n",
       "    <tr>\n",
       "      <th>201573</th>\n",
       "      <td>offer received</td>\n",
       "      <td>504</td>\n",
       "      <td>NaN</td>\n",
       "      <td>118</td>\n",
       "      <td>None</td>\n",
       "      <td>NaN</td>\n",
       "      <td>5</td>\n",
       "      <td>20.0</td>\n",
       "      <td>10.0</td>\n",
       "      <td>discount</td>\n",
       "      <td>5.0</td>\n",
       "      <td>5.0</td>\n",
       "      <td>1</td>\n",
       "      <td>1</td>\n",
       "      <td>0</td>\n",
       "      <td>0</td>\n",
       "      <td>40.218129</td>\n",
       "    </tr>\n",
       "    <tr>\n",
       "      <th>245125</th>\n",
       "      <td>offer received</td>\n",
       "      <td>576</td>\n",
       "      <td>NaN</td>\n",
       "      <td>118</td>\n",
       "      <td>None</td>\n",
       "      <td>NaN</td>\n",
       "      <td>5</td>\n",
       "      <td>20.0</td>\n",
       "      <td>10.0</td>\n",
       "      <td>discount</td>\n",
       "      <td>5.0</td>\n",
       "      <td>5.0</td>\n",
       "      <td>1</td>\n",
       "      <td>1</td>\n",
       "      <td>0</td>\n",
       "      <td>0</td>\n",
       "      <td>40.218129</td>\n",
       "    </tr>\n",
       "    <tr>\n",
       "      <th>277104</th>\n",
       "      <td>transaction</td>\n",
       "      <td>612</td>\n",
       "      <td>0.06</td>\n",
       "      <td>118</td>\n",
       "      <td>None</td>\n",
       "      <td>NaN</td>\n",
       "      <td>5</td>\n",
       "      <td>NaN</td>\n",
       "      <td>NaN</td>\n",
       "      <td>NaN</td>\n",
       "      <td>NaN</td>\n",
       "      <td>NaN</td>\n",
       "      <td>0</td>\n",
       "      <td>0</td>\n",
       "      <td>0</td>\n",
       "      <td>0</td>\n",
       "      <td>40.218129</td>\n",
       "    </tr>\n",
       "    <tr>\n",
       "      <th>281785</th>\n",
       "      <td>offer viewed</td>\n",
       "      <td>624</td>\n",
       "      <td>NaN</td>\n",
       "      <td>118</td>\n",
       "      <td>None</td>\n",
       "      <td>NaN</td>\n",
       "      <td>5</td>\n",
       "      <td>20.0</td>\n",
       "      <td>10.0</td>\n",
       "      <td>discount</td>\n",
       "      <td>5.0</td>\n",
       "      <td>5.0</td>\n",
       "      <td>1</td>\n",
       "      <td>1</td>\n",
       "      <td>0</td>\n",
       "      <td>0</td>\n",
       "      <td>40.218129</td>\n",
       "    </tr>\n",
       "  </tbody>\n",
       "</table>\n",
       "</div>"
      ],
      "text/plain": [
       "                 event  time  amount  age gender  income  person_id  \\\n",
       "1       offer received     0     NaN  118   None     NaN          5   \n",
       "15562     offer viewed     6     NaN  118   None     NaN          5   \n",
       "90553      transaction   234    1.09  118   None     NaN          5   \n",
       "97700      transaction   264    3.50  118   None     NaN          5   \n",
       "110829  offer received   336     NaN  118   None     NaN          5   \n",
       "123539    offer viewed   336     NaN  118   None     NaN          5   \n",
       "150599  offer received   408     NaN  118   None     NaN          5   \n",
       "201573  offer received   504     NaN  118   None     NaN          5   \n",
       "245125  offer received   576     NaN  118   None     NaN          5   \n",
       "277104     transaction   612    0.06  118   None     NaN          5   \n",
       "281785    offer viewed   624     NaN  118   None     NaN          5   \n",
       "\n",
       "        difficulty  duration     offer_type  reward_y  portfolio_id  web  \\\n",
       "1             20.0      10.0       discount       5.0           5.0    1   \n",
       "15562         20.0      10.0       discount       5.0           5.0    1   \n",
       "90553          NaN       NaN            NaN       NaN           NaN    0   \n",
       "97700          NaN       NaN            NaN       NaN           NaN    0   \n",
       "110829         0.0       4.0  informational       0.0           3.0    1   \n",
       "123539         0.0       4.0  informational       0.0           3.0    1   \n",
       "150599         0.0       3.0  informational       0.0           8.0    1   \n",
       "201573        20.0      10.0       discount       5.0           5.0    1   \n",
       "245125        20.0      10.0       discount       5.0           5.0    1   \n",
       "277104         NaN       NaN            NaN       NaN           NaN    0   \n",
       "281785        20.0      10.0       discount       5.0           5.0    1   \n",
       "\n",
       "        email  mobile  social  membership_length  \n",
       "1           1       0       0          40.218129  \n",
       "15562       1       0       0          40.218129  \n",
       "90553       0       0       0          40.218129  \n",
       "97700       0       0       0          40.218129  \n",
       "110829      1       1       0          40.218129  \n",
       "123539      1       1       0          40.218129  \n",
       "150599      1       1       0          40.218129  \n",
       "201573      1       0       0          40.218129  \n",
       "245125      1       0       0          40.218129  \n",
       "277104      0       0       0          40.218129  \n",
       "281785      1       0       0          40.218129  "
      ]
     },
     "execution_count": 31,
     "metadata": {},
     "output_type": "execute_result"
    }
   ],
   "source": [
    "df[df['person_id']==5]"
   ]
  },
  {
   "cell_type": "code",
   "execution_count": 32,
   "metadata": {},
   "outputs": [
    {
     "data": {
      "text/plain": [
       "[3.0, 5.0, 8.0]"
      ]
     },
     "execution_count": 32,
     "metadata": {},
     "output_type": "execute_result"
    }
   ],
   "source": [
    "# received offers of user 5\n",
    "get_user_offer_ids(5) "
   ]
  },
  {
   "cell_type": "code",
   "execution_count": 38,
   "metadata": {},
   "outputs": [
    {
     "data": {
      "text/plain": [
       "[3.0, 5.0]"
      ]
     },
     "execution_count": 38,
     "metadata": {},
     "output_type": "execute_result"
    }
   ],
   "source": [
    "# not received offers of user 5\n",
    "get_not_received_ids(5) "
   ]
  },
  {
   "cell_type": "code",
   "execution_count": 34,
   "metadata": {},
   "outputs": [],
   "source": [
    "def user_user_recs(user_id, m=3):\n",
    "    '''\n",
    "    INPUT:\n",
    "    user_id - (int) a user id\n",
    "    m - (int) the number of recommendations you want for the user\n",
    "    \n",
    "    OUTPUT:\n",
    "    recs - (list) a list of recommendations for the user\n",
    "    \n",
    "    Description:\n",
    "    Loops through the users based on closeness to the input user_id\n",
    "    For each user - finds offers the user hasn't seen before and provides them as recs\n",
    "    Does this until m recommendations are found    \n",
    "    '''\n",
    "    recs = []\n",
    "    sim_to_user_id = find_similar_users(user_id)\n",
    "\n",
    "    for sim_user in sim_to_user_id:\n",
    "        rec_ids = get_user_offer_ids(sim_user)\n",
    "        for id_ in rec_ids:\n",
    "            if id_ not in recs and id_ not in get_user_offer_ids(user_id) and id_ not in get_not_received_ids(user_id):\n",
    "                recs.append(id_)\n",
    "                if len(recs) >= 10:\n",
    "                    break\n",
    "        if len(recs) >= 10:\n",
    "            break\n",
    "    \n",
    "    # return random.choice(recs[:m]) # return your recommendations for this user_id\n",
    "    return recs[:m]\n",
    "\n",
    "# source: Udacity's Recommendations_with_IBM"
   ]
  },
  {
   "cell_type": "code",
   "execution_count": 46,
   "metadata": {},
   "outputs": [],
   "source": [
    "# users in test that do not have pred\n",
    "no_pred_users = list(pred_user.symmetric_difference(test_user))"
   ]
  },
  {
   "cell_type": "code",
   "execution_count": 47,
   "metadata": {},
   "outputs": [
    {
     "name": "stdout",
     "output_type": "stream",
     "text": [
      "The user 14530 will get the following offers: [5.0, 7.0, 10.0]\n",
      "The user 15433 will get the following offers: [5.0, 7.0, 10.0]\n"
     ]
    }
   ],
   "source": [
    "for user in no_pred_users:\n",
    "    print(f\"The user {user} will get the following offers: {user_user_recs(14530)}\")"
   ]
  },
  {
   "cell_type": "markdown",
   "metadata": {},
   "source": [
    "## Final results\n",
    "\n",
    "This is a good start that can be used for creating a recommendation engine and integrating it in the Starbucks app. Since the dataset includes only 10 offers, it would be interesting to see how the model behaves when a larger dataset is provided.\n",
    "\n",
    "Using User-User Based Collaborative Filtering, I have managed to make recommendations for almost all the customers in my test data frame. Next, I have found out that I still have two users that need recommendations. To solve the issue, I have found similar users. As a result, the model covers all the 17000 customers in the dataset.\n",
    "\n",
    "To make the recommendations more relevant to the users, we might as well consider more demographic data about the customers to build a more complex engine. Also, it is also important to consider factors, such as relevance, novelty, serendipity, increased diversity to increase the quality of the recommendations.\n",
    "\n",
    "A logical next step should be A/B testing to see how successful the model behaves in reality."
   ]
  }
 ],
 "metadata": {
  "kernelspec": {
   "display_name": "Python 3",
   "language": "python",
   "name": "python3"
  },
  "language_info": {
   "codemirror_mode": {
    "name": "ipython",
    "version": 3
   },
   "file_extension": ".py",
   "mimetype": "text/x-python",
   "name": "python",
   "nbconvert_exporter": "python",
   "pygments_lexer": "ipython3",
   "version": "3.6.3"
  }
 },
 "nbformat": 4,
 "nbformat_minor": 2
}
